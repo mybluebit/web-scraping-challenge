{
 "cells": [
  {
   "cell_type": "markdown",
   "metadata": {},
   "source": [
    "# Dependencies"
   ]
  },
  {
   "cell_type": "code",
   "execution_count": 1,
   "metadata": {},
   "outputs": [],
   "source": [
    "from splinter import Browser\n",
    "from bs4 import BeautifulSoup as bs\n",
    "import time\n",
    "import pandas as pd"
   ]
  },
  {
   "cell_type": "markdown",
   "metadata": {},
   "source": [
    "# Initilaizing Chromedriver\n",
    "### It's been set for MAC machines,"
   ]
  },
  {
   "cell_type": "code",
   "execution_count": 2,
   "metadata": {},
   "outputs": [],
   "source": [
    "def init_browser():\n",
    "    # @NOTE: Replace the path with your actual path to the chromedriver\n",
    "    executable_path = {\"executable_path\": \"/usr/local/bin/chromedriver\"}\n",
    "    return Browser(\"chrome\", **executable_path, headless=False)"
   ]
  },
  {
   "cell_type": "markdown",
   "metadata": {},
   "source": [
    "## Windows Users can go with codes below"
   ]
  },
  {
   "cell_type": "code",
   "execution_count": 3,
   "metadata": {},
   "outputs": [],
   "source": [
    "### def init_browser():\n",
    "###    executable_path = {\"executable_path\": \"[path]/chromedriver.exe\"}\n",
    "###    return Browser(\"chrome\", **executable_path, headless=False)"
   ]
  },
  {
   "cell_type": "markdown",
   "metadata": {},
   "source": [
    "# NASA Mars News Scraper"
   ]
  },
  {
   "cell_type": "code",
   "execution_count": null,
   "metadata": {},
   "outputs": [],
   "source": [
    "def scrape_news():\n",
    "    browser = init_browser()\n",
    "    \n",
    "# Scraping Latest News from NASA Mars News Site\n",
    "\n",
    "    # Visiting NASA Mars News Site\n",
    "    url = \"https://mars.nasa.gov/news/\"\n",
    "    browser.visit(url)\n",
    "    \n",
    "    time.sleep(3)\n",
    "\n",
    "    # Scraping page into Soup\n",
    "    html = browser.html\n",
    "    soup = bs(html, \"html.parser\")\n",
    "\n",
    "    # Getting the news part\n",
    "    news = soup.find_all('div', class_=\"list_text\")[0]\n",
    "    \n",
    "    # Getting the news title\n",
    "    news_title = news.find(class_=\"content_title\").text\n",
    "    \n",
    "    # Getting the news paragraph\n",
    "    news_body = news.find(class_=\"article_teaser_body\").text\n",
    "    \n",
    "    # Getting the news date\n",
    "    news_date = news.find(class_='list_date').text\n",
    "    \n",
    "    # Storing News Collected Data as a dictionary\n",
    "    news_data= {\n",
    "        \"News Date\": news_date,\n",
    "        \"News Title\": news_title,\n",
    "        \"News Body\" : news_body\n",
    "    }\n",
    "    \n",
    "      \n",
    "    # Closing the browser after scraping\n",
    "    browser.quit()\n",
    "    \n",
    "    # Returning results\n",
    "    return (news_data)"
   ]
  },
  {
   "cell_type": "code",
   "execution_count": null,
   "metadata": {},
   "outputs": [],
   "source": [
    "scrape_news()"
   ]
  },
  {
   "cell_type": "markdown",
   "metadata": {},
   "source": [
    "# JPL Mars Space Images - Featured Image Scraper"
   ]
  },
  {
   "cell_type": "code",
   "execution_count": null,
   "metadata": {},
   "outputs": [],
   "source": [
    "def scrape_image():\n",
    "    browser = init_browser()\n",
    "    \n",
    "# Scraping JPL Mars Space Images from JPL website\n",
    "\n",
    "    # Visiting JPL Site\n",
    "    url_jpl = \"https://www.jpl.nasa.gov/spaceimages/?search=&category=Mars\"\n",
    "    browser.visit(url_jpl)\n",
    "    \n",
    "    time.sleep(2)\n",
    "    \n",
    "    # Scraping page into Soup\n",
    "    html= browser.html\n",
    "    soup= bs(html, \"html.parser\")\n",
    "    \n",
    "     # Getting the featured Image Part  \n",
    "    featured_image_info = soup.find('article', class_=\"carousel_item\")['style']\n",
    "    \n",
    "    # Finding the Image Name\n",
    "    featured_image_name= (featured_image_info.split(\"wallpaper/\")[1]).split(\".jpg\")[0]\n",
    "    \n",
    "    # Creating the Featured Image URL\n",
    "    main_jpl_url = \"https://www.jpl.nasa.gov/spaceimages/images/wallpaper/\"\n",
    "    featured_image_url= main_jpl_url + featured_image_name + \".jpg\"\n",
    "    \n",
    "    \n",
    "    # Closing the browser after scraping\n",
    "    browser.quit()\n",
    "    \n",
    "    # Returning results\n",
    "    return (featured_image_url)"
   ]
  },
  {
   "cell_type": "code",
   "execution_count": null,
   "metadata": {},
   "outputs": [],
   "source": [
    "scrape_image()"
   ]
  },
  {
   "cell_type": "markdown",
   "metadata": {},
   "source": [
    "# Mars Weather Scraper"
   ]
  },
  {
   "cell_type": "code",
   "execution_count": null,
   "metadata": {},
   "outputs": [],
   "source": [
    "  def scrape_tweet():\n",
    "    browser = init_browser()\n",
    "       \n",
    "# Scraping Mars Weather from Mars Weather Twitter Account\n",
    "\n",
    "    url_twitter = \"https://twitter.com/marswxreport?lang=en\"\n",
    "    browser.visit(url_twitter)\n",
    "    \n",
    "    time.sleep(10)\n",
    "    \n",
    "    # Scraping page into Soup\n",
    "    html= browser.html\n",
    "    soup= bs(html, \"html.parser\")\n",
    "    \n",
    "    # Finding the latest Tweet about Mars Weather   \n",
    "    mars_weather = (soup.find('div', attrs={\"data-testid\": \"tweet\"}).get_text()).split('InSight ')[1]\n",
    "    \n",
    "    # Closing the browser after scraping\n",
    "    browser.quit()\n",
    "    \n",
    "    # Returning results\n",
    "    return (mars_weather)"
   ]
  },
  {
   "cell_type": "code",
   "execution_count": null,
   "metadata": {},
   "outputs": [],
   "source": [
    "scrape_tweet() "
   ]
  },
  {
   "cell_type": "markdown",
   "metadata": {},
   "source": [
    "# Mars Facts Scraper"
   ]
  },
  {
   "cell_type": "code",
   "execution_count": 6,
   "metadata": {},
   "outputs": [],
   "source": [
    "def scrape_facts():\n",
    "   \n",
    "    # Scraping Mars Facts from Space Fact website   \n",
    "\n",
    "    url_facts =\"https://space-facts.com/mars/\"\n",
    "    \n",
    "    \n",
    "    # Getting the fact table\n",
    "    tables = pd.read_html(url_facts)\n",
    "    fact_table = pd.DataFrame(tables[0])\n",
    "    \n",
    "    fact_table = fact_table.rename(columns={\n",
    "        0 : \"Description\",\n",
    "        1 : \"Value\"\n",
    "    })\n",
    "    \n",
    "    fact_table.set_index(\"Description\", inplace = True)\n",
    "    \n",
    "        \n",
    "    # Returning results\n",
    "    return (fact_table)"
   ]
  },
  {
   "cell_type": "code",
   "execution_count": 7,
   "metadata": {},
   "outputs": [
    {
     "data": {
      "text/html": [
       "<div>\n",
       "<style scoped>\n",
       "    .dataframe tbody tr th:only-of-type {\n",
       "        vertical-align: middle;\n",
       "    }\n",
       "\n",
       "    .dataframe tbody tr th {\n",
       "        vertical-align: top;\n",
       "    }\n",
       "\n",
       "    .dataframe thead th {\n",
       "        text-align: right;\n",
       "    }\n",
       "</style>\n",
       "<table border=\"1\" class=\"dataframe\">\n",
       "  <thead>\n",
       "    <tr style=\"text-align: right;\">\n",
       "      <th></th>\n",
       "      <th>Value</th>\n",
       "    </tr>\n",
       "    <tr>\n",
       "      <th>Description</th>\n",
       "      <th></th>\n",
       "    </tr>\n",
       "  </thead>\n",
       "  <tbody>\n",
       "    <tr>\n",
       "      <td>Equatorial Diameter:</td>\n",
       "      <td>6,792 km</td>\n",
       "    </tr>\n",
       "    <tr>\n",
       "      <td>Polar Diameter:</td>\n",
       "      <td>6,752 km</td>\n",
       "    </tr>\n",
       "    <tr>\n",
       "      <td>Mass:</td>\n",
       "      <td>6.39 × 10^23 kg (0.11 Earths)</td>\n",
       "    </tr>\n",
       "    <tr>\n",
       "      <td>Moons:</td>\n",
       "      <td>2 (Phobos &amp; Deimos)</td>\n",
       "    </tr>\n",
       "    <tr>\n",
       "      <td>Orbit Distance:</td>\n",
       "      <td>227,943,824 km (1.38 AU)</td>\n",
       "    </tr>\n",
       "    <tr>\n",
       "      <td>Orbit Period:</td>\n",
       "      <td>687 days (1.9 years)</td>\n",
       "    </tr>\n",
       "    <tr>\n",
       "      <td>Surface Temperature:</td>\n",
       "      <td>-87 to -5 °C</td>\n",
       "    </tr>\n",
       "    <tr>\n",
       "      <td>First Record:</td>\n",
       "      <td>2nd millennium BC</td>\n",
       "    </tr>\n",
       "    <tr>\n",
       "      <td>Recorded By:</td>\n",
       "      <td>Egyptian astronomers</td>\n",
       "    </tr>\n",
       "  </tbody>\n",
       "</table>\n",
       "</div>"
      ],
      "text/plain": [
       "                                              Value\n",
       "Description                                        \n",
       "Equatorial Diameter:                       6,792 km\n",
       "Polar Diameter:                            6,752 km\n",
       "Mass:                 6.39 × 10^23 kg (0.11 Earths)\n",
       "Moons:                          2 (Phobos & Deimos)\n",
       "Orbit Distance:            227,943,824 km (1.38 AU)\n",
       "Orbit Period:                  687 days (1.9 years)\n",
       "Surface Temperature:                   -87 to -5 °C\n",
       "First Record:                     2nd millennium BC\n",
       "Recorded By:                   Egyptian astronomers"
      ]
     },
     "execution_count": 7,
     "metadata": {},
     "output_type": "execute_result"
    }
   ],
   "source": [
    "scrape_facts()"
   ]
  },
  {
   "cell_type": "markdown",
   "metadata": {},
   "source": [
    "# Mars Hemispheres\n",
    "\n",
    "## Finding URL of each page"
   ]
  },
  {
   "cell_type": "code",
   "execution_count": 8,
   "metadata": {},
   "outputs": [],
   "source": [
    " def scrape_hemispheres():\n",
    "    browser = init_browser()\n",
    "       \n",
    "    # Scraping Mars Hemispheres images URL from USGS Astrogeology Site\n",
    "    url_full_img = \"https://astrogeology.usgs.gov\"\n",
    "    url_usgs = \"https://astrogeology.usgs.gov/search/results?q=hemisphere+enhanced&k1=target&v1=Mars\"\n",
    "    browser.visit(url_usgs)\n",
    "    \n",
    "    time.sleep(4)\n",
    "    \n",
    "    # Scraping page into the soup and parser\n",
    "    html= browser.html\n",
    "    soup= bs(html, \"html.parser\")\n",
    "    \n",
    "    # Finding the URL of each Hemispheres Images\n",
    "    url_list= []\n",
    "    for x in range (8):\n",
    "        if (x % 2) == 0:\n",
    "            url_image = soup.find('div', class_=\"collapsible results\").find_all('a')[x]['href']\n",
    "            full_url = url_full_img + url_image\n",
    "            url_list.append(full_url)\n",
    "    \n",
    "    \n",
    "    # Closing the browser after scraping\n",
    "    browser.quit()\n",
    "    \n",
    "    # Returning results\n",
    "    return (url_list)"
   ]
  },
  {
   "cell_type": "code",
   "execution_count": 9,
   "metadata": {},
   "outputs": [],
   "source": [
    "# Creating a list of all needed URLS to be called in next function\n",
    "url_list = scrape_hemispheres()"
   ]
  },
  {
   "cell_type": "markdown",
   "metadata": {},
   "source": [
    "# Mars Hemispheres\n",
    "\n",
    "## Title & URLs"
   ]
  },
  {
   "cell_type": "code",
   "execution_count": 10,
   "metadata": {},
   "outputs": [],
   "source": [
    "def scrape_hemispheres_info():\n",
    "\n",
    "    # Scraping Mars Hemispheres Infos from USGS Astrogeology Site\n",
    "    \n",
    "    url_full_img = \"https://astrogeology.usgs.gov\"\n",
    "    \n",
    "    final_hemispheres_info=[]\n",
    "    \n",
    "    # Finding the URL & Title of each Hemispheres Images in full size\n",
    "    for url in url_list:\n",
    "        browser = init_browser()\n",
    "        browser.visit(url)\n",
    "\n",
    "        time.sleep (4)\n",
    "        \n",
    "        # Scraping page into Soup\n",
    "        html= browser.html\n",
    "        soup= bs(html, \"html.parser\")\n",
    "\n",
    "        # Finding the URL of each Hemispheres Images in full size\n",
    "        src_image = soup.find('img', class_=\"wide-image\")['src']\n",
    "        url_final_image = url_full_img + src_image\n",
    "\n",
    "        # Finding the Title of each Hemispheres Images in full size\n",
    "        image_title = soup.find('h2', class_=\"title\").get_text()\n",
    "\n",
    "        #Creating a dictionary of Info\n",
    "        dic = {\"Title\": image_title ,\n",
    "              \"Image_URL\": url_final_image}\n",
    "\n",
    "        final_hemispheres_info.append(dic)\n",
    "\n",
    "        # Closing the browser after scraping\n",
    "        browser.quit()\n",
    "\n",
    "    # Returning results\n",
    "    return(final_hemispheres_info)"
   ]
  },
  {
   "cell_type": "code",
   "execution_count": 11,
   "metadata": {},
   "outputs": [
    {
     "data": {
      "text/plain": [
       "[{'Title': 'Cerberus Hemisphere Enhanced',\n",
       "  'Image_URL': 'https://astrogeology.usgs.gov/cache/images/cfa62af2557222a02478f1fcd781d445_cerberus_enhanced.tif_full.jpg'},\n",
       " {'Title': 'Schiaparelli Hemisphere Enhanced',\n",
       "  'Image_URL': 'https://astrogeology.usgs.gov/cache/images/3cdd1cbf5e0813bba925c9030d13b62e_schiaparelli_enhanced.tif_full.jpg'},\n",
       " {'Title': 'Syrtis Major Hemisphere Enhanced',\n",
       "  'Image_URL': 'https://astrogeology.usgs.gov/cache/images/ae209b4e408bb6c3e67b6af38168cf28_syrtis_major_enhanced.tif_full.jpg'},\n",
       " {'Title': 'Valles Marineris Hemisphere Enhanced',\n",
       "  'Image_URL': 'https://astrogeology.usgs.gov/cache/images/7cf2da4bf549ed01c17f206327be4db7_valles_marineris_enhanced.tif_full.jpg'}]"
      ]
     },
     "execution_count": 11,
     "metadata": {},
     "output_type": "execute_result"
    }
   ],
   "source": [
    "scrape_hemispheres_info()"
   ]
  },
  {
   "cell_type": "code",
   "execution_count": null,
   "metadata": {},
   "outputs": [],
   "source": []
  }
 ],
 "metadata": {
  "kernelspec": {
   "display_name": "Python 3",
   "language": "python",
   "name": "python3"
  },
  "language_info": {
   "codemirror_mode": {
    "name": "ipython",
    "version": 3
   },
   "file_extension": ".py",
   "mimetype": "text/x-python",
   "name": "python",
   "nbconvert_exporter": "python",
   "pygments_lexer": "ipython3",
   "version": "3.7.4"
  }
 },
 "nbformat": 4,
 "nbformat_minor": 4
}
